{
  "nbformat": 4,
  "nbformat_minor": 0,
  "metadata": {
    "accelerator": "GPU",
    "colab": {
      "name": "Copy_of_object_detection_hw (6).ipynb",
      "provenance": [],
      "collapsed_sections": [],
      "include_colab_link": true
    },
    "kernelspec": {
      "display_name": "Python 3",
      "language": "python",
      "name": "python3"
    },
    "language_info": {
      "codemirror_mode": {
        "name": "ipython",
        "version": 3
      },
      "file_extension": ".py",
      "mimetype": "text/x-python",
      "name": "python",
      "nbconvert_exporter": "python",
      "pygments_lexer": "ipython3",
      "version": "3.6.10"
    }
  },
  "cells": [
    {
      "cell_type": "markdown",
      "metadata": {
        "id": "view-in-github",
        "colab_type": "text"
      },
      "source": [
        "<a href=\"https://colab.research.google.com/github/mzhang15/computer-vision/blob/master/Copy_of_object_detection_hw_(6).ipynb\" target=\"_parent\"><img src=\"https://colab.research.google.com/assets/colab-badge.svg\" alt=\"Open In Colab\"/></a>"
      ]
    },
    {
      "cell_type": "markdown",
      "metadata": {
        "id": "PwreVPXZIzZB"
      },
      "source": [
        "# Object Detection\n",
        " \n",
        "Hello, this is a very minimal notebook showing a working object detection network using just ~300 lines of modelling and training code. In this lab you will code an object detection with functionality similiar to a Single Shot Detector or YOLO detector. \n",
        " \n",
        "The first steps would be to understand what anchors are. Anchors are nothing but crops of a specific size and position in the image. The job of our object detector is to classify each anchor as containing an object or not. If the anchor contains an object, we want to find out by how much our anchor needs to change in shape and position to best fit the object in it. (By how much the height, width and center x and y cordinates change.)\n",
        " \n",
        "Hence, object detection is a multi task network which does classification and regression.\n",
        " \n",
        " \n",
        "The final objective of completing this notebook is to generate some visualizations of the network running on images in the validation set. In addition to this, please upload the weights of your network and share the google drive link. In this notebook below:\n",
        " \n",
        "**Fill this out with the Google drive link containing model weights: /content/gdrive/My Drive/cv_lab2_weights.pt**\n",
        " \n",
        "You should upload the completed notebook to NYU Classes."
      ]
    },
    {
      "cell_type": "code",
      "metadata": {
        "id": "_gqANBiQI9hr",
        "colab": {
          "base_uri": "https://localhost:8080/",
          "height": 136
        },
        "outputId": "c57afa87-5c17-4385-b402-8b357d7523f8"
      },
      "source": [
        "# load important modules\n",
        "!git clone https://github.com/karanchahal/objectdetection-\n",
        "%cd objectdetection-"
      ],
      "execution_count": null,
      "outputs": [
        {
          "output_type": "stream",
          "text": [
            "Cloning into 'objectdetection-'...\n",
            "remote: Enumerating objects: 28, done.\u001b[K\n",
            "remote: Counting objects: 100% (28/28), done.\u001b[K\n",
            "remote: Compressing objects: 100% (27/27), done.\u001b[K\n",
            "remote: Total 28 (delta 5), reused 16 (delta 1), pack-reused 0\u001b[K\n",
            "Unpacking objects: 100% (28/28), done.\n",
            "/content/objectdetection-\n"
          ],
          "name": "stdout"
        }
      ]
    },
    {
      "cell_type": "code",
      "metadata": {
        "id": "ak37idDZIzZC"
      },
      "source": [
        "from extras.shapes_loader import get_shapes_loader\n",
        "from extras.util import *\n",
        "import torch\n",
        "import matplotlib.pyplot as plt\n",
        "import matplotlib\n",
        "import torch.nn as nn\n",
        "from extras.encoder import ResnetEncoder\n",
        "import torch.nn.functional as F\n",
        "from extras.anchors import get_offsets\n",
        "from extras.boxes import box_iou, nms\n",
        "import numpy as np\n",
        " \n",
        "trainloader, valloader = get_shapes_loader(batch_sz=4)\n",
        "device = 'cpu' # change this to \"cuda\" if you have access to a GPU. On CPU, training should take around ~45 mins on CPU.\n",
        " \n",
        "matplotlib.rcParams['figure.figsize'] = (10.0, 10.0)"
      ],
      "execution_count": null,
      "outputs": []
    },
    {
      "cell_type": "markdown",
      "metadata": {
        "id": "VT-JnR9WIzZG"
      },
      "source": [
        "## Dataset\n",
        "\n",
        "First let's introduce our dataset. We have a Pytorch dataloader which outputs images and the ground truth data for the bounding boxes. We visualize the dataset below. You dont need to write any code here. However, you should dig into the fun ction that are called to better understand the structure of the dataset. "
      ]
    },
    {
      "cell_type": "code",
      "metadata": {
        "id": "IdSVb1pYIzZJ",
        "colab": {
          "base_uri": "https://localhost:8080/",
          "height": 71
        },
        "outputId": "a9ed2355-8e21-4dbc-a156-cae7d26fe244"
      },
      "source": [
        "sample, target = iter(trainloader).next()\n",
        "sample = torch.stack(sample,dim=0)"
      ],
      "execution_count": null,
      "outputs": [
        {
          "output_type": "stream",
          "text": [
            "/content/objectdetection-/extras/shapes_loader.py:243: UserWarning: The given NumPy array is not writeable, and PyTorch does not support non-writeable tensors. This means you can write to the underlying (supposedly non-writeable) NumPy array using the tensor. You may want to copy the array to protect its data or make it writeable before converting it to a tensor. This type of warning will be suppressed for the rest of this program. (Triggered internally at  /pytorch/torch/csrc/utils/tensor_numpy.cpp:141.)\n",
            "  return torch.tensor(np.asarray(image)).permute(2,0,1), target\n"
          ],
          "name": "stderr"
        }
      ]
    },
    {
      "cell_type": "code",
      "metadata": {
        "id": "VztoWXFtIzZL",
        "colab": {
          "base_uri": "https://localhost:8080/",
          "height": 595
        },
        "outputId": "4549fc17-ade4-4d1b-a8f5-92c8b7c5cc5f"
      },
      "source": [
        "vis(sample)\n",
        "# print(sample.size())\n",
        "# print(target[0])"
      ],
      "execution_count": null,
      "outputs": [
        {
          "output_type": "display_data",
          "data": {
            "image/png": "[encoded data removed]",
            "text/plain": [
              "<Figure size 720x720 with 4 Axes>"
            ]
          },
          "metadata": {
            "tags": [],
            "needs_background": "light"
          }
        }
      ]
    },
    {
      "cell_type": "code",
      "metadata": {
        "id": "57B5bLG-IzZN",
        "colab": {
          "base_uri": "https://localhost:8080/",
          "height": 595
        },
        "outputId": "b98f09af-2f6a-45c1-b84d-afcb49062d46"
      },
      "source": [
        "visDet(sample, target)"
      ],
      "execution_count": null,
      "outputs": [
        {
          "output_type": "display_data",
          "data": {
            "image/png": "[encoded data removed]",
            "text/plain": [
              "<Figure size 720x720 with 4 Axes>"
            ]
          },
          "metadata": {
            "tags": [],
            "needs_background": "light"
          }
        }
      ]
    },
    {
      "cell_type": "markdown",
      "metadata": {
        "id": "utFxVXjqIzZQ"
      },
      "source": [
        "### Target Data for the Dataset\n",
        "\n",
        "The labels/targets of the datset have 2 types of data for each image. \n",
        "\n",
        "1. The bounding boxes which is a tensor of size (N x 4).\n",
        "here is N is the number of objects in the image and 4 correspond to:\n",
        "\n",
        "    a. top left x coordinate\n",
        "    b. top left y coordinate\n",
        "    c. bottom right x coordinate\n",
        "    d. bottom right y coordinate\n",
        "\n",
        "2. The second type of targets are the classification labels of size Nx1. Here N corresponds to the number of objects in the image and the 1 corresponds to the label of the object (whether it is a triangle, square or circle).\n"
      ]
    },
    {
      "cell_type": "code",
      "metadata": {
        "id": "cHGsaaHMIzZQ",
        "tags": [],
        "colab": {
          "base_uri": "https://localhost:8080/",
          "height": 51
        },
        "outputId": "63825914-f872-41cd-c44b-5af26f731b42"
      },
      "source": [
        "print(target[0])\n",
        "# print(target[0]['bounding_box'])\n",
        "# print(target[0]['labels'])"
      ],
      "execution_count": null,
      "outputs": [
        {
          "output_type": "stream",
          "text": [
            "{'bounding_box': tensor([[26, 36, 74, 84],\n",
            "        [35, 12, 91, 68]]), 'labels': tensor([2, 3], dtype=torch.int32)}\n"
          ],
          "name": "stdout"
        }
      ]
    },
    {
      "cell_type": "markdown",
      "metadata": {
        "id": "Oq87yw2bIzZT"
      },
      "source": [
        "### Converting Target Data to Ground Truth \n",
        "\n",
        "Here we assign bounding boxes to the various anchor boxes in our image. Anchor boxes are rectangular chunks in the image and are spread all across the image. In object detection, we divide the image into a large number of chunks of different sizes and specify two characteristics of that chunk:\n",
        "\n",
        "1. Whether it has an object in it or not. This is done by measuring IOU of the chunk with the bounding boxes. If the IOU is > 0.7, we say that the chunk contains the object. If it is less than 0.3, we say the chunk only contains background. If the value is somewhere in between, we say it is a bad chunk and do not use it's contribution to the loss in our backpropogation.\n",
        "\n",
        "2. How much should the chunk change in height, width and how much should it translate to best fit the object. These offsets are 4 values, for the height, width, center x and y coordinate. Please use the \n",
        "\n",
        "\n",
        "Anchor boxes might be explained best by this image:\n",
        "![Anchor Boxes](https://lilianweng.github.io/lil-log/assets/images/SSD-framework.png)\n",
        "\n",
        "Now, first we create the chunks or \"anchors\" for our image. Since our image is 128x 128 in size. In this lab we want to use a stride of 16.  Hence, we should get 192 anchors.\n",
        "\n",
        "\n",
        "### Why do we get the size 192 ?\n",
        "\n",
        "We get the size of 192 as we have a total of 192 anchors in an image of 128 x 128 while using a stride of 16 and we have 3 anchors in each position of the image. \n",
        "\n",
        "Let's break this down.\n",
        "\n",
        "128/16 = 8.\n",
        "\n",
        "Hence, our neural network should output a feature map of 8 x 8 in spatial dimensions. Each grid in this feature map is an anchor position. Each position has 3 boxes/anchors of 3 shapes -> size 40x40, 50x50 and 60x60.\n",
        "\n",
        "Hence the total anchors are 8x8x3 = 192. \n",
        "\n",
        "Your first job is to write the code that creates these 192 anchors from an image of size 128x128. Each anchor is represented by the top left and bottom right x,y coordinates of the anchors in regards with a 128x128 image. \n",
        "\n",
        "Hence, the output of the below function should be a tensor of size [192,4]\n"
      ]
    },
    {
      "cell_type": "code",
      "metadata": {
        "id": "fvcyW6AkIzZZ",
        "tags": []
      },
      "source": [
        "def get_gt_boxes():\n",
        "    \"\"\"\n",
        "    Generate 192 boxes where each box is represented by :\n",
        "    [top_left_x, top_left_y, bottom_right_x, bottom_right_y]\n",
        "\n",
        "    Each anchor position should generate 3 boxes according to the scales and ratios given.\n",
        "\n",
        "    Return this result as a numpy array of size [192,4]\n",
        "    \"\"\"\n",
        "    stride = 16 # The stride of the final feature map is 16 (the model compresses the image from 128 x 128 to 8 x 8)\n",
        "    map_sz = 128 # this is the length of height/width of the image\n",
        "\n",
        "    scales = torch.tensor([40,50,60])\n",
        "    ratios = torch.tensor([[1,1]]).view(1,2)\n",
        "    \n",
        "    gt_boxes = []\n",
        "    # TODO\n",
        "    for i in range(0, map_sz, stride):\n",
        "      for j in range(0, map_sz, stride):\n",
        "        for s in scales.numpy():\n",
        "          gt_boxes.append([i, j, i + s - 1, j + s - 1])\n",
        "    return torch.Tensor(gt_boxes)\n",
        "\n",
        "gt_boxes = get_gt_boxes()\n",
        "\n",
        "assert gt_boxes.size() == (192,4)"
      ],
      "execution_count": null,
      "outputs": []
    },
    {
      "cell_type": "markdown",
      "metadata": {
        "id": "uRmSTATwIzZZ"
      },
      "source": [
        "# A Pictoral Representation of our Model\n",
        "\n",
        "![alt text](https://cdn-images-1.medium.com/max/1600/1*7heX-no7cdqllky-GwGBfQ.png)\n",
        "\n",
        "\n",
        "However instead of $2k$ in the given image we just have k scores. We group triangles, squares and circles into one foreground class for this demo. Of course, we can have seperate predictions for each class but that is added complexity and is not implemented here.\n",
        "\n",
        "\n",
        "Your next job is to construct the model. Most parts of the model is already constructed, your job is to add the classification and bounding box regression heads to the encoder."
      ]
    },
    {
      "cell_type": "code",
      "metadata": {
        "id": "yt--F8HcIzZU"
      },
      "source": [
        "class ShapesModel(nn.Module):\n",
        "\n",
        "    def __init__(self):\n",
        "        super(ShapesModel, self).__init__()\n",
        "\n",
        "        # for each grid in the feature map we have 3 anchors of sizes: 40x40, 50x50, 60x60\n",
        "        num_anchors = 3\n",
        "\n",
        "        # regular resnet 18 encoder\n",
        "        self.encoder = ResnetEncoder(num_layers=18, pretrained=False)\n",
        "\n",
        "        # a small conv net\n",
        "        self.conv = nn.Conv2d(\n",
        "            256, 256, kernel_size=3, stride=1, padding=1\n",
        "        )\n",
        "\n",
        "        # TODO: Add a Convolutional Layer to prediction the class predictions. This is a head that predicts whether a    chunk/anchor contains an object or not.\n",
        "        self.cls_logits = nn.Conv2d(256, 3, kernel_size=1)\n",
        "\n",
        "        # TODO: Add a Convolutional Layer to prediction the class predictions. This is a  a head that regresses over the 4 bounding box offsets for each anchor\n",
        "        self.bbox_pred = nn.Conv2d(256, 12, kernel_size=1)\n",
        "    \n",
        "    def permute_and_flatten(self, layer, N, A, C, H, W):\n",
        "        # helper function that rearranges the input for the loss function\n",
        "        layer = layer.view(N, -1, C, H, W)\n",
        "        layer = layer.permute(0, 3, 4, 1, 2)\n",
        "        layer = layer.reshape(N, -1, C)\n",
        "        return layer\n",
        "    \n",
        "    def get_predict_regressions(self, cls_pred, box_pred):\n",
        "        # helper function that gets outputs in the right shape for applying the loss\n",
        "        N, AxC, H, W = cls_pred.shape\n",
        "        Ax4 = box_pred.shape[1]\n",
        "        A = Ax4 // 4\n",
        "        C = AxC // A\n",
        "        cls_pred = self.permute_and_flatten(\n",
        "            cls_pred, N, A, C, H, W\n",
        "        )\n",
        "        \n",
        "        box_pred = self.permute_and_flatten(\n",
        "            box_pred, N, A, 4, H, W\n",
        "        )\n",
        "        return cls_pred, box_pred\n",
        "\n",
        "    def forward(self, x):\n",
        "        bt_sz = x.size(0)\n",
        "\n",
        "        # we take the 3rd output feature map of size 8 x 8 from\n",
        "        # the resnet18 encoder this means that the stride\n",
        "        # is 16 as our input image is 128x128 in size.\n",
        "        x = self.encoder(x)[3]\n",
        "\n",
        "        x = F.relu(self.conv(x))\n",
        "\n",
        "        cls_pred = self.cls_logits(x)\n",
        "        box_pred = self.bbox_pred(x)\n",
        "\n",
        "        cls_pred, box_pred = self.get_predict_regressions(cls_pred, box_pred)\n",
        "\n",
        "        return cls_pred.squeeze(2), box_pred\n"
      ],
      "execution_count": null,
      "outputs": []
    },
    {
      "cell_type": "code",
      "metadata": {
        "id": "v-tnPWV9IzZX",
        "tags": [],
        "colab": {
          "base_uri": "https://localhost:8080/",
          "height": 34
        },
        "outputId": "9217f087-ad1a-43c9-dcd3-70aee53b179a"
      },
      "source": [
        "m = ShapesModel()\n",
        "a = torch.randn(1,3,128,128) # dummy input\n",
        "cls_pred, box_pred = m(a)\n",
        "print('The outputs of the net are of size: ', cls_pred.size(), box_pred.size())\n",
        "\n",
        "assert cls_pred.size() == (1,192) and box_pred.size() == (1,192,4)"
      ],
      "execution_count": null,
      "outputs": [
        {
          "output_type": "stream",
          "text": [
            "The outputs of the net are of size:  torch.Size([1, 192]) torch.Size([1, 192, 4])\n"
          ],
          "name": "stdout"
        }
      ]
    },
    {
      "cell_type": "markdown",
      "metadata": {
        "id": "zNbDq_8xIzZb"
      },
      "source": [
        "Each anchor is represented by the top left and bottom right x,y coordinates of the anchors in regards with a 128x128 image. \n",
        "\n",
        "Next we have to assign a class label to each anchor and in case the anchor has an IOU > 0.7 with any real object assign 4 offsets to the anchor. We do this for every single image. Each image would have it's own set of anchors with different class probabilities and offsets as that depends on what objects are situated in that image. \n",
        "\n",
        "Your job is to calculate those values. Fill out the below function. Hint: Use the `box_iou` and `get_offsets` function."
      ]
    },
    {
      "cell_type": "code",
      "metadata": {
        "id": "JMRwLlVqIzZc"
      },
      "source": [
        "def get_bbox_gt(ex_boxes, gt_boxes, sz=128):\n",
        "    '''\n",
        "    \n",
        "    INPUT:\n",
        "    ex_boxes: [Nx4]: Bounding boxes in the image. Here N is the number of bounding boxes the image has\n",
        "    gt_boxes: [192 x 4]: Anchor boxes of an image of size 128 x 128 with stride 16. \n",
        "    sz : 128\n",
        "    OUTPUT: \n",
        "    gt_classes: [192 x 1] : Class labels for each anchor: 1 is for foreground, 0 is for background and -1 is for a bad anchor. [where IOU is between 0.3 and 0.7]\n",
        "    gt_offsets: [192 x 4]: Offsets for anchor to best fit the bounding box object. 0 values for 0 and -1 class anchors.\n",
        "\n",
        "    '''\n",
        "    high_threshold = 0.7\n",
        "    low_threshold = 0.3\n",
        "    \n",
        "    # TODO\n",
        "    gt_classes = []\n",
        "    gt_boxes_foreground = []\n",
        "    ex_boxes_foreground = []\n",
        "    gt_offsets = []\n",
        "\n",
        "    iou_matrix = box_iou(gt_boxes, ex_boxes) # output is [192 x N]\n",
        "    for i in range(iou_matrix.shape[0]):\n",
        "      max_iou = 0\n",
        "      max_box_index = 0\n",
        "      for j in range(iou_matrix.shape[1]):\n",
        "        if iou_matrix[i][j] > max_iou:\n",
        "          max_iou = iou_matrix[i][j]\n",
        "          max_box_index = j\n",
        "\n",
        "      if max_iou > high_threshold:\n",
        "        gt_classes.append(1)\n",
        "        offset = get_offsets(torch.Tensor([gt_boxes[i].tolist()]), torch.Tensor([ex_boxes[max_box_index].tolist()]))\n",
        "        # print(offset[0].tolist())\n",
        "        gt_offsets.append(offset[0].tolist())\n",
        "\n",
        "      elif max_iou > low_threshold:\n",
        "        gt_classes.append(-1)\n",
        "        gt_offsets.append([0,0,0,0])\n",
        "      else:\n",
        "        gt_classes.append(0)\n",
        "        gt_offsets.append([0,0,0,0])\n",
        "    \n",
        "    gt_classes = torch.Tensor(gt_classes)\n",
        "    gt_offsets = torch.Tensor(gt_offsets)\n",
        "\n",
        "    return gt_classes, gt_offsets"
      ],
      "execution_count": null,
      "outputs": []
    },
    {
      "cell_type": "code",
      "metadata": {
        "id": "geYdBXveIzZe"
      },
      "source": [
        "def get_targets(target, sample):\n",
        "    '''\n",
        "    Input\n",
        "    target => Set of bounding boxes for each image.\n",
        "    Sample => Each image\n",
        "    Output:\n",
        "    Bounding box offsets and class labels for each anchor.\n",
        "    '''\n",
        "\n",
        "    batched_preds = []\n",
        "    batched_offsets = []\n",
        "    final_cls_targets = []\n",
        "    final_box_offsets = []\n",
        "    for t, s in zip(target, sample):\n",
        "        bboxes = t['bounding_box'].to(device).float()\n",
        "        class_targets, box_offsets = get_bbox_gt(bboxes, gt_boxes, sz=128)\n",
        "        final_cls_targets.append(class_targets)\n",
        "        final_box_offsets.append(box_offsets)\n",
        "    \n",
        "    final_cls_targets = torch.stack(final_cls_targets, dim=0)\n",
        "    final_box_offsets = torch.stack(final_box_offsets, dim=0)\n",
        "\n",
        "    return final_cls_targets, final_box_offsets"
      ],
      "execution_count": null,
      "outputs": []
    },
    {
      "cell_type": "code",
      "metadata": {
        "id": "_MaTWpH2IzZg",
        "tags": [],
        "colab": {
          "base_uri": "https://localhost:8080/",
          "height": 34
        },
        "outputId": "ad8b0db0-9a45-4d3f-a522-03e69a5fa6c2"
      },
      "source": [
        "sample, target = iter(trainloader).next()\n",
        "sample = torch.stack(sample,dim=0)\n",
        "\n",
        "class_targets, box_targets = get_targets(target, sample)\n",
        "print(class_targets.size(), box_targets.size())"
      ],
      "execution_count": null,
      "outputs": [
        {
          "output_type": "stream",
          "text": [
            "torch.Size([4, 192]) torch.Size([4, 192, 4])\n"
          ],
          "name": "stdout"
        }
      ]
    },
    {
      "cell_type": "markdown",
      "metadata": {
        "id": "z5S_E5BmIzZj"
      },
      "source": [
        "This is the meat of object detection right there ! The correct calculation of the anchors for an image and it's ground truth. Now that this is done, we can move on to our neural network training code."
      ]
    },
    {
      "cell_type": "markdown",
      "metadata": {
        "id": "JlcVJzGlIzZj"
      },
      "source": [
        "## Loss Function\n",
        "\n",
        "One more small kink in the puzzle of object detection is the way the classification loss is calculated. Here, the classification loss is the binary cross entropy loss. The loss is calculated only for those anchors which are background and foreground anchors NOT the negative ones. \n",
        "\n",
        "One more kink in this setup is that we should sample background and foreground anchors in the ratio of 3:1. This is because there are too many background anchors and the model will predict a background anchor for every anchor and still get a 90% accuracy on the classification. To prevent this, we do this sampling which is also called hard online negative sampling. However, as we have a very small amount of anchors here (192) this isn't a problem. However, for smaller strides and different scales and ratios for each position, thie number can balloon to upto 100,000. Hence, implementing hard online negative sampling is left to be optional to you.\n",
        "\n",
        "For the bounding box regressions, use a Smooth L1 loss, this works well and prevents outliers.\n",
        "\n",
        "Your next task is to write the code for the class_loss and bbox_loss. The classification loss should be applied to all positive (containing an object) and negative anchors (does not contain an object). The loss should not be calculated for the anchors whose IOU values are between 0.7 and 0.3.\n",
        "\n",
        "Apply a Smooth L1 loss to regress on the bounding box offsets, (only apply this loss for anchors which contain an object !)\n",
        "\n",
        "**Extra Credit**: Implement Hard Online Negative Sampling, however it is not necessasary. You can get this model to train without using it as the number of anchors are low for an image in this case.\n",
        "\n"
      ]
    },
    {
      "cell_type": "code",
      "metadata": {
        "id": "Mi13XEtKI6pj"
      },
      "source": [
        "\n",
        "def class_loss(out_pred, class_targets, device=\"cpu\"):\n",
        "    # TODO return class loss\n",
        "    out_pred = out_pred[class_targets != -1]\n",
        "    class_targets = class_targets[class_targets != -1]\n",
        "    out_pred = torch.sigmoid(out_pred)\n",
        "    return F.binary_cross_entropy(out_pred, class_targets)\n",
        "\n",
        "def bbox_loss(out_bbox, box_targets, class_targets):\n",
        "    # TODO return bounding box offset loss\n",
        "    out_bbox = out_bbox[class_targets == 1]\n",
        "    box_targets = box_targets[class_targets == 1]\n",
        "    out_bbox = torch.sigmoid(out_bbox)\n",
        "    sml1 = torch.nn.SmoothL1Loss()\n",
        "    loss = sml1(out_bbox, box_targets)\n",
        "    return loss"
      ],
      "execution_count": null,
      "outputs": []
    },
    {
      "cell_type": "markdown",
      "metadata": {
        "id": "u42yvSLCI6pl"
      },
      "source": [
        "## Training Function. \n",
        "\n",
        "This is the training function, you do not need to change any code here. You can add a validation function here to verify that your model is working well. However, you do not need to submit it."
      ]
    },
    {
      "cell_type": "code",
      "metadata": {
        "id": "trximgTSIzZj"
      },
      "source": [
        "def train(ep, model, trainloader, optimizer):\n",
        "        total_loss = 0\n",
        "        b_loss = 0\n",
        "        c_loss = 0\n",
        "        for i, (ims, targets) in enumerate(trainloader):\n",
        "            ims = torch.stack(list(ims), dim=0).to(device)\n",
        "\n",
        "            class_targets, box_targets = get_targets(targets, ims)\n",
        "            out_pred, out_box = model(ims)\n",
        "            loss_cls = class_loss(out_pred, class_targets)\n",
        "            loss_bbox = bbox_loss(out_box, box_targets, class_targets)\n",
        "            loss = loss_cls + loss_bbox\n",
        "\n",
        "            if loss.item() != 0:\n",
        "                optimizer.zero_grad()\n",
        "                loss.backward()\n",
        "                optimizer.step()\n",
        "\n",
        "            total_loss += loss.item()\n",
        "            c_loss += loss_cls.item()\n",
        "            b_loss += loss_bbox.item()\n",
        "            \n",
        "        avg_c_loss = float(c_loss / len(trainloader))\n",
        "        avg_b_loss = float(b_loss / len(trainloader))\n",
        "        print('Trained Epoch: {} | Avg Classification Loss: {}, Bounding loss: {}'.format(ep, avg_c_loss, avg_b_loss))"
      ],
      "execution_count": null,
      "outputs": []
    },
    {
      "cell_type": "code",
      "metadata": {
        "id": "z8f5IswpIzZl",
        "colab": {
          "base_uri": "https://localhost:8080/",
          "height": 85
        },
        "outputId": "82cf018a-f9cf-4e4d-951c-ed81fb3a866c"
      },
      "source": [
        "model = ShapesModel().to(device)\n",
        "optimizer = torch.optim.SGD(\n",
        "        model.parameters(),\n",
        "        lr=0.1, momentum=0.9, weight_decay=1e-4)    \n",
        "for ep in range(4):\n",
        "    train(ep, model, trainloader, optimizer)"
      ],
      "execution_count": null,
      "outputs": [
        {
          "output_type": "stream",
          "text": [
            "Trained Epoch: 0 | Avg Classification Loss: 0.05935116501674056, Bounding loss: 0.0035406872721854598\n",
            "Trained Epoch: 1 | Avg Classification Loss: 0.030449849840719252, Bounding loss: 0.0031797376033850014\n",
            "Trained Epoch: 2 | Avg Classification Loss: 0.014866962242661975, Bounding loss: 0.003121421959088184\n",
            "Trained Epoch: 3 | Avg Classification Loss: 0.009090090387093368, Bounding loss: 0.003084606219246052\n"
          ],
          "name": "stdout"
        }
      ]
    },
    {
      "cell_type": "markdown",
      "metadata": {
        "id": "oqX8k4qYIzZn"
      },
      "source": [
        "### Now let's visualize the predictions !\n",
        "\n",
        "The most exciting part of any neural network model setup. First let's visualize our ground truth."
      ]
    },
    {
      "cell_type": "code",
      "metadata": {
        "id": "wRWPArY7IzZo"
      },
      "source": [
        "sample, target = iter(valloader).next()\n",
        "sample = torch.stack(sample,dim=0)"
      ],
      "execution_count": null,
      "outputs": []
    },
    {
      "cell_type": "code",
      "metadata": {
        "id": "GXpoJRadIzZq",
        "colab": {
          "base_uri": "https://localhost:8080/",
          "height": 595
        },
        "outputId": "c60d673a-5f75-4ba4-cc93-6ab407920801"
      },
      "source": [
        "visDet(sample, target)"
      ],
      "execution_count": null,
      "outputs": [
        {
          "output_type": "display_data",
          "data": {
            "image/png": "[encoded data removed]",
            "text/plain": [
              "<Figure size 720x720 with 4 Axes>"
            ]
          },
          "metadata": {
            "tags": [],
            "needs_background": "light"
          }
        }
      ]
    },
    {
      "cell_type": "markdown",
      "metadata": {
        "id": "eAZPrnKcl6oU"
      },
      "source": [
        "### Our Model Predictions\n",
        "\n",
        "Note: We perform NMS upon our final predictions to clear up the output. This is done as a lot of anchors near to the actual object will fire resulting in a lot of boxes. NMS handles these multiple predictions by merging and giving a single box for a predicted object instead of multiple. This is best signified through another image:\n",
        "\n",
        "![NMS](https://miro.medium.com/max/1000/0*WI5_K3bAbYaRyzE-.png)\n",
        "\n",
        "Now onto our model predictions !\n",
        "\n",
        "Your final task is to write code to visualize the model predictions on an image in the validation set. You can use the `visDet` function to help out with visualizing. Your main job would be to select what anchors (after applying offsets) to draw on the image. Generally, if the probability is > 0.7. It's a good idea to use the anchor. Also, you can use the `nms` function inside `boxes.py`.\n"
      ]
    },
    {
      "cell_type": "code",
      "metadata": {
        "id": "Z4H0o2tuIzZt",
        "colab": {
          "base_uri": "https://localhost:8080/",
          "height": 1000
        },
        "outputId": "31a8c3f5-7182-4319-a84e-559a7ed6bc7c"
      },
      "source": [
        "def visPred(model, sample):\n",
        "    #TODO: visualize your model predictions on the sample image.\n",
        "    cls_targets, box_targets = model(sample)\n",
        "    # print(cls_targets.size())\n",
        "    # print(box_targets.size())\n",
        "\n",
        "    for i in range(len(sample)):\n",
        "      cls_target = cls_targets[i]\n",
        "      box_offsets = box_targets[i]\n",
        "      # print(cls_target)\n",
        "      # print(box_offsets.size())\n",
        "\n",
        "      foreground_anchors = gt_boxes[cls_target > 0.7]\n",
        "      foreground_targets = cls_target[cls_target > 0.7]\n",
        "      foreground_offsets = box_offsets[cls_target > 0.7]\n",
        "      # print(foreground_anchors)\n",
        "      # print(foreground_offsets)\n",
        "\n",
        "      # nms\n",
        "      indices = nms(foreground_anchors, foreground_targets, 0.3)\n",
        "\n",
        "      fig,ax = plt.subplots(1)\n",
        "      image = sample[i].permute(1, 2, 0)\n",
        "      # Display the image\n",
        "      ax.imshow(image)\n",
        "\n",
        "      for i in indices:\n",
        "        box = foreground_anchors[i].tolist()\n",
        "        w = box[3] - box[1]\n",
        "        h = box[2] - box[0]\n",
        "        cx = box[0] + 1/2 * h\n",
        "        cy = box[1] + 1/2 * w\n",
        "\n",
        "        offset = foreground_offsets[i].tolist()\n",
        "        n_w = w + offset[1]\n",
        "        n_h = h + offset[0]\n",
        "        n_cx = cx + offset[2]\n",
        "        n_cy = cy + offset[3]\n",
        "\n",
        "        x = n_cx - 1/2 * n_h\n",
        "        y = n_cy - 1/2 * n_w\n",
        "\n",
        "        # Create a Rectangle patch\n",
        "        rect = patches.Rectangle((x, y),n_w,n_h,linewidth=5,edgecolor='r',facecolor='none')\n",
        "        \n",
        "        # Add the patch to the Axes\n",
        "        ax.add_patch(rect)\n",
        "\n",
        "      plt.show()\n",
        "      # plt.figure()\n",
        "      # plt.imshow(image)\n",
        "    \n",
        "\n",
        "visPred(model, sample)"
      ],
      "execution_count": null,
      "outputs": [
        {
          "output_type": "display_data",
          "data": {
            "image/png": "[encoded data removed]",
            "text/plain": [
              "<Figure size 720x720 with 1 Axes>"
            ]
          },
          "metadata": {
            "tags": [],
            "needs_background": "light"
          }
        },
        {
          "output_type": "display_data",
          "data": {
            "image/png": "[encoded data removed]",
            "text/plain": [
              "<Figure size 720x720 with 1 Axes>"
            ]
          },
          "metadata": {
            "tags": [],
            "needs_background": "light"
          }
        },
        {
          "output_type": "display_data",
          "data": {
            "image/png": "[encoded data removed]",
            "text/plain": [
              "<Figure size 720x720 with 1 Axes>"
            ]
          },
          "metadata": {
            "tags": [],
            "needs_background": "light"
          }
        },
        {
          "output_type": "display_data",
          "data": {
            "image/png": "[encoded data removed]",
            "text/plain": [
              "<Figure size 720x720 with 1 Axes>"
            ]
          },
          "metadata": {
            "tags": [],
            "needs_background": "light"
          }
        }
      ]
    },
    {
      "cell_type": "code",
      "metadata": {
        "id": "X-0G8120a_gE",
        "colab": {
          "base_uri": "https://localhost:8080/",
          "height": 34
        },
        "outputId": "51a4e356-ac8c-41ce-d978-51bf83794bb1"
      },
      "source": [
        "from google.colab import drive\n",
        "drive.mount('/content/gdrive')"
      ],
      "execution_count": null,
      "outputs": [
        {
          "output_type": "stream",
          "text": [
            "Mounted at /content/gdrive\n"
          ],
          "name": "stdout"
        }
      ]
    },
    {
      "cell_type": "code",
      "metadata": {
        "id": "jOSsZLcMbU96"
      },
      "source": [
        "model_save_name = 'cv_lab2_weights.pt'\n",
        "path = F\"/content/gdrive/My Drive/{model_save_name}\" \n",
        "torch.save(model.state_dict(), path)"
      ],
      "execution_count": null,
      "outputs": []
    },
    {
      "cell_type": "markdown",
      "metadata": {
        "id": "uCNCE3PenkNa"
      },
      "source": [
        "## Conclusion\n",
        "\n",
        "Not bad, right ? This is a very barebones implementation and trained for a very short amount of epochs. However this is the meat and bones of most anchor based state of the art detectors out today. We can improve accuracy by doing multiscale training by incorporating a Feature Pyramid Network but that is for you to discover :') \n",
        "\n",
        "## References\n",
        "\n",
        "Some foundational/good papers on object detection. This list is non exhaustive\n",
        "\n",
        "1. [Single Shot Detector](https://arxiv.org/abs/1512.02325)\n",
        "2. [YOLO](https://arxiv.org/abs/1612.08242)\n",
        "3. [Faster RCNN](https://arxiv.org/abs/1506.01497)\n",
        "4. [Feature Pyramid Network](https://arxiv.org/abs/1612.03144)\n",
        "5. Bonus Read: [DETR- State of the art Object detector based on Transformers](https://arxiv.org/abs/2005.12872)\n"
      ]
    },
    {
      "cell_type": "code",
      "metadata": {
        "id": "7kE2FnYwJf3A"
      },
      "source": [
        ""
      ],
      "execution_count": null,
      "outputs": []
    }
  ]
}